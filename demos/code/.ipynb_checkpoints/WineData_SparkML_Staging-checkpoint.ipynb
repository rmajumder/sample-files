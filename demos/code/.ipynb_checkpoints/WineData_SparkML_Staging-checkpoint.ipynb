{
 "cells": [
  {
   "cell_type": "code",
   "execution_count": 1,
   "metadata": {},
   "outputs": [
    {
     "data": {
      "text/plain": [
       "<pyspark.sql.context.SQLContext at 0x10afc7d30>"
      ]
     },
     "execution_count": 1,
     "metadata": {},
     "output_type": "execute_result"
    }
   ],
   "source": [
    "sqlContext"
   ]
  },
  {
   "cell_type": "markdown",
   "metadata": {},
   "source": [
    "<b>Dataset location: </b>https://archive.ics.uci.edu/ml/machine-learning-databases/wine/wine.data"
   ]
  },
  {
   "cell_type": "code",
   "execution_count": 3,
   "metadata": {},
   "outputs": [],
   "source": [
    "data = sqlContext.read.load('../datasets/wine.data', \n",
    "                            format='com.databricks.spark.csv') "
   ]
  },
  {
   "cell_type": "code",
   "execution_count": 4,
   "metadata": {},
   "outputs": [
    {
     "data": {
      "text/plain": [
       "DataFrame[_c0: string, _c1: string, _c2: string, _c3: string, _c4: string, _c5: string, _c6: string, _c7: string, _c8: string, _c9: string, _c10: string, _c11: string, _c12: string, _c13: string]"
      ]
     },
     "execution_count": 4,
     "metadata": {},
     "output_type": "execute_result"
    }
   ],
   "source": [
    "data"
   ]
  },
  {
   "cell_type": "code",
   "execution_count": 5,
   "metadata": {},
   "outputs": [
    {
     "data": {
      "text/plain": [
       "[Row(_c0='1', _c1='14.23', _c2='1.71', _c3='2.43', _c4='15.6', _c5='127', _c6='2.8', _c7='3.06', _c8='.28', _c9='2.29', _c10='5.64', _c11='1.04', _c12='3.92', _c13='1065'),\n",
       " Row(_c0='1', _c1='13.2', _c2='1.78', _c3='2.14', _c4='11.2', _c5='100', _c6='2.65', _c7='2.76', _c8='.26', _c9='1.28', _c10='4.38', _c11='1.05', _c12='3.4', _c13='1050'),\n",
       " Row(_c0='1', _c1='13.16', _c2='2.36', _c3='2.67', _c4='18.6', _c5='101', _c6='2.8', _c7='3.24', _c8='.3', _c9='2.81', _c10='5.68', _c11='1.03', _c12='3.17', _c13='1185'),\n",
       " Row(_c0='1', _c1='14.37', _c2='1.95', _c3='2.5', _c4='16.8', _c5='113', _c6='3.85', _c7='3.49', _c8='.24', _c9='2.18', _c10='7.8', _c11='.86', _c12='3.45', _c13='1480'),\n",
       " Row(_c0='1', _c1='13.24', _c2='2.59', _c3='2.87', _c4='21', _c5='118', _c6='2.8', _c7='2.69', _c8='.39', _c9='1.82', _c10='4.32', _c11='1.04', _c12='2.93', _c13='735'),\n",
       " Row(_c0='1', _c1='14.2', _c2='1.76', _c3='2.45', _c4='15.2', _c5='112', _c6='3.27', _c7='3.39', _c8='.34', _c9='1.97', _c10='6.75', _c11='1.05', _c12='2.85', _c13='1450'),\n",
       " Row(_c0='1', _c1='14.39', _c2='1.87', _c3='2.45', _c4='14.6', _c5='96', _c6='2.5', _c7='2.52', _c8='.3', _c9='1.98', _c10='5.25', _c11='1.02', _c12='3.58', _c13='1290'),\n",
       " Row(_c0='1', _c1='14.06', _c2='2.15', _c3='2.61', _c4='17.6', _c5='121', _c6='2.6', _c7='2.51', _c8='.31', _c9='1.25', _c10='5.05', _c11='1.06', _c12='3.58', _c13='1295'),\n",
       " Row(_c0='1', _c1='14.83', _c2='1.64', _c3='2.17', _c4='14', _c5='97', _c6='2.8', _c7='2.98', _c8='.29', _c9='1.98', _c10='5.2', _c11='1.08', _c12='2.85', _c13='1045'),\n",
       " Row(_c0='1', _c1='13.86', _c2='1.35', _c3='2.27', _c4='16', _c5='98', _c6='2.98', _c7='3.15', _c8='.22', _c9='1.85', _c10='7.22', _c11='1.01', _c12='3.55', _c13='1045')]"
      ]
     },
     "execution_count": 5,
     "metadata": {},
     "output_type": "execute_result"
    }
   ],
   "source": [
    "data.take(10)"
   ]
  },
  {
   "cell_type": "code",
   "execution_count": null,
   "metadata": {
    "collapsed": true
   },
   "outputs": [],
   "source": [
    "schema = StructType([\n",
    "    StructField('Alcohol', FloatType(), True), \n",
    "    StructField('MalicAcid', FloatType(), True),\n",
    "    StructField('Ash', FloatType(), True),\n",
    "    StructField('AshAlkalinity', FloatType(), True),\n",
    "    StructField('Magnesium', FloatType(), True),\n",
    "    StructField('TotalPhenols', FloatType(), True),\n",
    "    StructField('Flavanoids', FloatType(), True),\n",
    "    StructField('NonflavanoidPhenols', FloatType(), True),\n",
    "    StructField('Proanthocyanins', FloatType(), True),\n",
    "    StructField('ColorIntensity', FloatType(), True),\n",
    "    StructField('Hue', FloatType(), True),\n",
    "    StructField('OD', FloatType(), True),\n",
    "    StructField('Proline', FloatType(), True)\n",
    "])"
   ]
  },
  {
   "cell_type": "code",
   "execution_count": 6,
   "metadata": {
    "collapsed": true
   },
   "outputs": [],
   "source": [
    "df = data.toDF('Label',\n",
    "                'Alcohol',\n",
    "                'MalicAcid',\n",
    "                'Ash',\n",
    "                'AshAlkalinity',\n",
    "                'Magnesium',\n",
    "                'TotalPhenols',\n",
    "                'Flavanoids',\n",
    "                'NonflavanoidPhenols',\n",
    "                'Proanthocyanins',\n",
    "                'ColorIntensity',\n",
    "                'Hue',\n",
    "                'OD',\n",
    "                'Proline'\n",
    "                )"
   ]
  },
  {
   "cell_type": "code",
   "execution_count": 7,
   "metadata": {},
   "outputs": [
    {
     "data": {
      "text/plain": [
       "[Row(Label='1', Alcohol='14.23', MalicAcid='1.71', Ash='2.43', AshAlkalinity='15.6', Magnesium='127', TotalPhenols='2.8', Flavanoids='3.06', NonflavanoidPhenols='.28', Proanthocyanins='2.29', ColorIntensity='5.64', Hue='1.04', OD='3.92', Proline='1065'),\n",
       " Row(Label='1', Alcohol='13.2', MalicAcid='1.78', Ash='2.14', AshAlkalinity='11.2', Magnesium='100', TotalPhenols='2.65', Flavanoids='2.76', NonflavanoidPhenols='.26', Proanthocyanins='1.28', ColorIntensity='4.38', Hue='1.05', OD='3.4', Proline='1050'),\n",
       " Row(Label='1', Alcohol='13.16', MalicAcid='2.36', Ash='2.67', AshAlkalinity='18.6', Magnesium='101', TotalPhenols='2.8', Flavanoids='3.24', NonflavanoidPhenols='.3', Proanthocyanins='2.81', ColorIntensity='5.68', Hue='1.03', OD='3.17', Proline='1185'),\n",
       " Row(Label='1', Alcohol='14.37', MalicAcid='1.95', Ash='2.5', AshAlkalinity='16.8', Magnesium='113', TotalPhenols='3.85', Flavanoids='3.49', NonflavanoidPhenols='.24', Proanthocyanins='2.18', ColorIntensity='7.8', Hue='.86', OD='3.45', Proline='1480'),\n",
       " Row(Label='1', Alcohol='13.24', MalicAcid='2.59', Ash='2.87', AshAlkalinity='21', Magnesium='118', TotalPhenols='2.8', Flavanoids='2.69', NonflavanoidPhenols='.39', Proanthocyanins='1.82', ColorIntensity='4.32', Hue='1.04', OD='2.93', Proline='735'),\n",
       " Row(Label='1', Alcohol='14.2', MalicAcid='1.76', Ash='2.45', AshAlkalinity='15.2', Magnesium='112', TotalPhenols='3.27', Flavanoids='3.39', NonflavanoidPhenols='.34', Proanthocyanins='1.97', ColorIntensity='6.75', Hue='1.05', OD='2.85', Proline='1450'),\n",
       " Row(Label='1', Alcohol='14.39', MalicAcid='1.87', Ash='2.45', AshAlkalinity='14.6', Magnesium='96', TotalPhenols='2.5', Flavanoids='2.52', NonflavanoidPhenols='.3', Proanthocyanins='1.98', ColorIntensity='5.25', Hue='1.02', OD='3.58', Proline='1290'),\n",
       " Row(Label='1', Alcohol='14.06', MalicAcid='2.15', Ash='2.61', AshAlkalinity='17.6', Magnesium='121', TotalPhenols='2.6', Flavanoids='2.51', NonflavanoidPhenols='.31', Proanthocyanins='1.25', ColorIntensity='5.05', Hue='1.06', OD='3.58', Proline='1295'),\n",
       " Row(Label='1', Alcohol='14.83', MalicAcid='1.64', Ash='2.17', AshAlkalinity='14', Magnesium='97', TotalPhenols='2.8', Flavanoids='2.98', NonflavanoidPhenols='.29', Proanthocyanins='1.98', ColorIntensity='5.2', Hue='1.08', OD='2.85', Proline='1045'),\n",
       " Row(Label='1', Alcohol='13.86', MalicAcid='1.35', Ash='2.27', AshAlkalinity='16', Magnesium='98', TotalPhenols='2.98', Flavanoids='3.15', NonflavanoidPhenols='.22', Proanthocyanins='1.85', ColorIntensity='7.22', Hue='1.01', OD='3.55', Proline='1045')]"
      ]
     },
     "execution_count": 7,
     "metadata": {},
     "output_type": "execute_result"
    }
   ],
   "source": [
    "df.take(10)"
   ]
  },
  {
   "cell_type": "code",
   "execution_count": null,
   "metadata": {
    "collapsed": true
   },
   "outputs": [],
   "source": []
  },
  {
   "cell_type": "code",
   "execution_count": 26,
   "metadata": {
    "collapsed": true
   },
   "outputs": [],
   "source": [
    "from pyspark.mllib.regression import LabeledPoint\n",
    "\n",
    "def parsePoint(line):\n",
    "    values = [float(x) for x in line.split(',')]\n",
    "    return LabeledPoint(values[0], values[1:])"
   ]
  },
  {
   "cell_type": "code",
   "execution_count": 27,
   "metadata": {},
   "outputs": [
    {
     "data": {
      "text/plain": [
       "PythonRDD[54] at RDD at PythonRDD.scala:48"
      ]
     },
     "execution_count": 27,
     "metadata": {},
     "output_type": "execute_result"
    }
   ],
   "source": [
    "parsedData = data.map(parsePoint)\n",
    "parsedData"
   ]
  },
  {
   "cell_type": "code",
   "execution_count": 28,
   "metadata": {},
   "outputs": [
    {
     "data": {
      "text/plain": [
       "[LabeledPoint(1.0, [14.23,1.71,2.43,15.6,127.0,2.8,3.06,0.28,2.29,5.64,1.04,3.92,1065.0]),\n",
       " LabeledPoint(1.0, [13.2,1.78,2.14,11.2,100.0,2.65,2.76,0.26,1.28,4.38,1.05,3.4,1050.0]),\n",
       " LabeledPoint(1.0, [13.16,2.36,2.67,18.6,101.0,2.8,3.24,0.3,2.81,5.68,1.03,3.17,1185.0]),\n",
       " LabeledPoint(1.0, [14.37,1.95,2.5,16.8,113.0,3.85,3.49,0.24,2.18,7.8,0.86,3.45,1480.0]),\n",
       " LabeledPoint(1.0, [13.24,2.59,2.87,21.0,118.0,2.8,2.69,0.39,1.82,4.32,1.04,2.93,735.0]),\n",
       " LabeledPoint(1.0, [14.2,1.76,2.45,15.2,112.0,3.27,3.39,0.34,1.97,6.75,1.05,2.85,1450.0]),\n",
       " LabeledPoint(1.0, [14.39,1.87,2.45,14.6,96.0,2.5,2.52,0.3,1.98,5.25,1.02,3.58,1290.0]),\n",
       " LabeledPoint(1.0, [14.06,2.15,2.61,17.6,121.0,2.6,2.51,0.31,1.25,5.05,1.06,3.58,1295.0]),\n",
       " LabeledPoint(1.0, [14.83,1.64,2.17,14.0,97.0,2.8,2.98,0.29,1.98,5.2,1.08,2.85,1045.0]),\n",
       " LabeledPoint(1.0, [13.86,1.35,2.27,16.0,98.0,2.98,3.15,0.22,1.85,7.22,1.01,3.55,1045.0])]"
      ]
     },
     "execution_count": 28,
     "metadata": {},
     "output_type": "execute_result"
    }
   ],
   "source": [
    "parsedData.take(10)"
   ]
  },
  {
   "cell_type": "code",
   "execution_count": 29,
   "metadata": {
    "collapsed": true
   },
   "outputs": [],
   "source": [
    "(trainingData, testData) = parsedData.randomSplit([0.7, 0.3])"
   ]
  },
  {
   "cell_type": "code",
   "execution_count": 30,
   "metadata": {},
   "outputs": [
    {
     "data": {
      "text/plain": [
       "PythonRDD[56] at RDD at PythonRDD.scala:48"
      ]
     },
     "execution_count": 30,
     "metadata": {},
     "output_type": "execute_result"
    }
   ],
   "source": [
    "trainingData"
   ]
  },
  {
   "cell_type": "code",
   "execution_count": 31,
   "metadata": {},
   "outputs": [
    {
     "data": {
      "text/plain": [
       "[LabeledPoint(1.0, [13.2,1.78,2.14,11.2,100.0,2.65,2.76,0.26,1.28,4.38,1.05,3.4,1050.0]),\n",
       " LabeledPoint(1.0, [13.16,2.36,2.67,18.6,101.0,2.8,3.24,0.3,2.81,5.68,1.03,3.17,1185.0]),\n",
       " LabeledPoint(1.0, [14.37,1.95,2.5,16.8,113.0,3.85,3.49,0.24,2.18,7.8,0.86,3.45,1480.0]),\n",
       " LabeledPoint(1.0, [13.24,2.59,2.87,21.0,118.0,2.8,2.69,0.39,1.82,4.32,1.04,2.93,735.0]),\n",
       " LabeledPoint(1.0, [14.2,1.76,2.45,15.2,112.0,3.27,3.39,0.34,1.97,6.75,1.05,2.85,1450.0]),\n",
       " LabeledPoint(1.0, [14.39,1.87,2.45,14.6,96.0,2.5,2.52,0.3,1.98,5.25,1.02,3.58,1290.0]),\n",
       " LabeledPoint(1.0, [14.83,1.64,2.17,14.0,97.0,2.8,2.98,0.29,1.98,5.2,1.08,2.85,1045.0]),\n",
       " LabeledPoint(1.0, [14.75,1.73,2.39,11.4,91.0,3.1,3.69,0.43,2.81,5.4,1.25,2.73,1150.0]),\n",
       " LabeledPoint(1.0, [14.38,1.87,2.38,12.0,102.0,3.3,3.64,0.29,2.96,7.5,1.2,3.0,1547.0]),\n",
       " LabeledPoint(1.0, [13.63,1.81,2.7,17.2,112.0,2.85,2.91,0.3,1.46,7.3,1.28,2.88,1310.0])]"
      ]
     },
     "execution_count": 31,
     "metadata": {},
     "output_type": "execute_result"
    }
   ],
   "source": [
    "trainingData.take(10)"
   ]
  },
  {
   "cell_type": "code",
   "execution_count": 32,
   "metadata": {
    "collapsed": true
   },
   "outputs": [],
   "source": [
    "from pyspark.mllib.tree import DecisionTree, DecisionTreeModel\n",
    "\n",
    "model = DecisionTree.trainClassifier(trainingData, numClasses=4, categoricalFeaturesInfo={},\n",
    "                                     impurity='gini', maxDepth=3, maxBins=32)"
   ]
  },
  {
   "cell_type": "code",
   "execution_count": 33,
   "metadata": {
    "collapsed": true
   },
   "outputs": [],
   "source": [
    "predictions = model.predict(testData.map(lambda x: x.features))"
   ]
  },
  {
   "cell_type": "code",
   "execution_count": 34,
   "metadata": {
    "collapsed": true
   },
   "outputs": [],
   "source": [
    "labelsAndPredictions = testData.map(lambda lp: lp.label).zip(predictions)"
   ]
  },
  {
   "cell_type": "code",
   "execution_count": 35,
   "metadata": {},
   "outputs": [
    {
     "name": "stdout",
     "output_type": "stream",
     "text": [
      "Test Accuracy = 0.8793103448275862\n"
     ]
    }
   ],
   "source": [
    "testAcc = labelsAndPredictions.filter(\n",
    "    lambda lp: lp[0] == lp[1]).count() / float(testData.count())\n",
    "print('Test Accuracy = ' + str(testAcc))"
   ]
  },
  {
   "cell_type": "code",
   "execution_count": 36,
   "metadata": {
    "collapsed": true
   },
   "outputs": [],
   "source": [
    "from pyspark.mllib.evaluation import MulticlassMetrics\n",
    "\n",
    "metrics = MulticlassMetrics(labelsAndPredictions)"
   ]
  },
  {
   "cell_type": "code",
   "execution_count": 37,
   "metadata": {},
   "outputs": [
    {
     "data": {
      "text/plain": [
       "0.8793103448275862"
      ]
     },
     "execution_count": 37,
     "metadata": {},
     "output_type": "execute_result"
    }
   ],
   "source": [
    "metrics.accuracy"
   ]
  },
  {
   "cell_type": "code",
   "execution_count": 38,
   "metadata": {},
   "outputs": [
    {
     "data": {
      "text/plain": [
       "0.8793103448275862"
      ]
     },
     "execution_count": 38,
     "metadata": {},
     "output_type": "execute_result"
    }
   ],
   "source": [
    "metrics.fMeasure()"
   ]
  },
  {
   "cell_type": "code",
   "execution_count": 39,
   "metadata": {},
   "outputs": [
    {
     "data": {
      "text/plain": [
       "1.0"
      ]
     },
     "execution_count": 39,
     "metadata": {},
     "output_type": "execute_result"
    }
   ],
   "source": [
    "metrics.precision(2.0)"
   ]
  },
  {
   "cell_type": "code",
   "execution_count": 40,
   "metadata": {},
   "outputs": [
    {
     "data": {
      "text/plain": [
       "DenseMatrix(3, 3, [18.0, 5.0, 0.0, 0.0, 19.0, 0.0, 0.0, 2.0, 14.0], 0)"
      ]
     },
     "execution_count": 40,
     "metadata": {},
     "output_type": "execute_result"
    }
   ],
   "source": [
    "metrics.confusionMatrix()"
   ]
  },
  {
   "cell_type": "code",
   "execution_count": 41,
   "metadata": {},
   "outputs": [
    {
     "data": {
      "text/plain": [
       "array([[18.,  0.,  0.],\n",
       "       [ 5., 19.,  2.],\n",
       "       [ 0.,  0., 14.]])"
      ]
     },
     "execution_count": 41,
     "metadata": {},
     "output_type": "execute_result"
    }
   ],
   "source": [
    "metrics.confusionMatrix().toArray()"
   ]
  },
  {
   "cell_type": "code",
   "execution_count": 42,
   "metadata": {},
   "outputs": [
    {
     "name": "stdout",
     "output_type": "stream",
     "text": [
      "DecisionTreeModel classifier of depth 3 with 9 nodes\n",
      "  If (feature 12 <= 987.5)\n",
      "   If (feature 9 <= 4.75)\n",
      "    If (feature 6 <= 0.575)\n",
      "     Predict: 3.0\n",
      "    Else (feature 6 > 0.575)\n",
      "     Predict: 2.0\n",
      "   Else (feature 9 > 4.75)\n",
      "    If (feature 6 <= 1.5750000000000002)\n",
      "     Predict: 3.0\n",
      "    Else (feature 6 > 1.5750000000000002)\n",
      "     Predict: 1.0\n",
      "  Else (feature 12 > 987.5)\n",
      "   Predict: 1.0\n",
      "\n"
     ]
    }
   ],
   "source": [
    "print(model.toDebugString())"
   ]
  },
  {
   "cell_type": "markdown",
   "metadata": {},
   "source": [
    "### Spark can also handle data sets in LIBSVM format"
   ]
  },
  {
   "cell_type": "code",
   "execution_count": 43,
   "metadata": {
    "collapsed": true
   },
   "outputs": [],
   "source": [
    "from pyspark.mllib.util import MLUtils"
   ]
  },
  {
   "cell_type": "code",
   "execution_count": 44,
   "metadata": {
    "collapsed": true
   },
   "outputs": [],
   "source": [
    "svmData = MLUtils.loadLibSVMFile(sc, 'datasets/wine.scale')"
   ]
  },
  {
   "cell_type": "code",
   "execution_count": 45,
   "metadata": {},
   "outputs": [
    {
     "data": {
      "text/plain": [
       "PythonRDD[109] at RDD at PythonRDD.scala:48"
      ]
     },
     "execution_count": 45,
     "metadata": {},
     "output_type": "execute_result"
    }
   ],
   "source": [
    "svmData"
   ]
  },
  {
   "cell_type": "code",
   "execution_count": 46,
   "metadata": {},
   "outputs": [
    {
     "data": {
      "text/plain": [
       "[LabeledPoint(1.0, (13,[0,1,2,3,4,5,6,7,8,9,10,11,12],[0.68421,-0.616601,0.144385,-0.484536,0.23913,0.255172,0.147679,-0.433962,0.18612,-0.255973,-0.089431,0.941392,0.122682])),\n",
       " LabeledPoint(1.0, (13,[0,1,2,3,4,5,6,7,8,9,10,11,12],[0.142105,-0.588933,-0.165775,-0.938144,-0.347826,0.151724,0.0210971,-0.509434,-0.451104,-0.47099,-0.0731708,0.56044,0.101284])),\n",
       " LabeledPoint(1.0, (13,[0,1,2,3,4,5,6,7,8,9,10,11,12],[0.121053,-0.359684,0.40107,-0.175258,-0.326087,0.255172,0.223629,-0.358491,0.514196,-0.249147,-0.105691,0.391941,0.293866])),\n",
       " LabeledPoint(1.0, (13,[0,1,2,3,4,5,6,7,8,9,10,11,12],[0.757895,-0.521739,0.219251,-0.360825,-0.0652174,0.97931,0.329114,-0.584906,0.116719,0.112628,-0.382114,0.59707,0.714693])),\n",
       " LabeledPoint(1.0, (13,[0,1,2,3,4,5,6,7,8,9,10,11,12],[0.163158,-0.268775,0.614973,0.0721649,0.0434783,0.255172,-0.00843878,-0.018868,-0.11041,-0.481229,-0.089431,0.216117,-0.348074])),\n",
       " LabeledPoint(1.0, (13,[0,1,2,3,4,5,6,7,8,9,10,11,12],[0.668421,-0.596838,0.165775,-0.525773,-0.0869565,0.57931,0.28692,-0.207547,-0.0157728,-0.0665529,-0.0731708,0.157509,0.671897])),\n",
       " LabeledPoint(1.0, (13,[0,1,2,3,4,5,6,7,8,9,10,11,12],[0.768421,-0.55336,0.165775,-0.587629,-0.434783,0.0482758,-0.0801688,-0.358491,-0.00946369,-0.322526,-0.121951,0.692308,0.443652])),\n",
       " LabeledPoint(1.0, (13,[0,1,2,3,4,5,6,7,8,9,10,11,12],[0.594737,-0.442688,0.336898,-0.278351,0.108696,0.117241,-0.0843882,-0.320755,-0.470032,-0.356655,-0.0569107,0.692308,0.450785])),\n",
       " LabeledPoint(1.0, (13,[0,1,2,3,4,5,6,7,8,9,10,11,12],[1.0,-0.644269,-0.13369,-0.649485,-0.413043,0.255172,0.113924,-0.396226,-0.00946369,-0.331058,-0.0243902,0.157509,0.0941512])),\n",
       " LabeledPoint(1.0, (13,[0,1,2,3,4,5,6,7,8,9,10,11,12],[0.489474,-0.758893,-0.026738,-0.443299,-0.391304,0.37931,0.185654,-0.660377,-0.0914826,0.0136518,-0.138211,0.67033,0.0941512]))]"
      ]
     },
     "execution_count": 46,
     "metadata": {},
     "output_type": "execute_result"
    }
   ],
   "source": [
    "svmData.take(10)"
   ]
  },
  {
   "cell_type": "code",
   "execution_count": 47,
   "metadata": {
    "collapsed": true
   },
   "outputs": [],
   "source": [
    "(trainingData, testData) = svmData.randomSplit([0.7, 0.3])"
   ]
  },
  {
   "cell_type": "code",
   "execution_count": 48,
   "metadata": {
    "collapsed": true
   },
   "outputs": [],
   "source": [
    "model = DecisionTree.trainClassifier(trainingData, numClasses=4, categoricalFeaturesInfo={},\n",
    "                                         impurity='gini', maxDepth=5, maxBins=32)"
   ]
  },
  {
   "cell_type": "code",
   "execution_count": 49,
   "metadata": {
    "collapsed": true
   },
   "outputs": [],
   "source": [
    "predictions = model.predict(testData.map(lambda x: x.features))"
   ]
  },
  {
   "cell_type": "code",
   "execution_count": 50,
   "metadata": {
    "collapsed": true
   },
   "outputs": [],
   "source": [
    "from pyspark.mllib.evaluation import MulticlassMetrics\n",
    "\n",
    "metrics = MulticlassMetrics(labelsAndPredictions)"
   ]
  },
  {
   "cell_type": "code",
   "execution_count": 51,
   "metadata": {},
   "outputs": [
    {
     "data": {
      "text/plain": [
       "0.8793103448275862"
      ]
     },
     "execution_count": 51,
     "metadata": {},
     "output_type": "execute_result"
    }
   ],
   "source": [
    "metrics.accuracy"
   ]
  },
  {
   "cell_type": "code",
   "execution_count": 53,
   "metadata": {},
   "outputs": [
    {
     "data": {
      "text/plain": [
       "array([[18.,  0.,  0.],\n",
       "       [ 5., 19.,  2.],\n",
       "       [ 0.,  0., 14.]])"
      ]
     },
     "execution_count": 53,
     "metadata": {},
     "output_type": "execute_result"
    }
   ],
   "source": [
    "metrics.confusionMatrix().toArray()"
   ]
  },
  {
   "cell_type": "code",
   "execution_count": 54,
   "metadata": {},
   "outputs": [
    {
     "name": "stdout",
     "output_type": "stream",
     "text": [
      "DecisionTreeModel classifier of depth 3 with 13 nodes\n",
      "  If (feature 9 <= -0.566553)\n",
      "   If (feature 0 <= 0.047368499999999994)\n",
      "    Predict: 2.0\n",
      "   Else (feature 0 > 0.047368499999999994)\n",
      "    If (feature 0 <= 0.3052635)\n",
      "     Predict: 1.0\n",
      "    Else (feature 0 > 0.3052635)\n",
      "     Predict: 2.0\n",
      "  Else (feature 9 > -0.566553)\n",
      "   If (feature 6 <= -0.4767935)\n",
      "    If (feature 2 <= -0.2406415)\n",
      "     Predict: 2.0\n",
      "    Else (feature 2 > -0.2406415)\n",
      "     Predict: 3.0\n",
      "   Else (feature 6 > -0.4767935)\n",
      "    If (feature 4 <= -0.5978265)\n",
      "     Predict: 2.0\n",
      "    Else (feature 4 > -0.5978265)\n",
      "     Predict: 1.0\n",
      "\n"
     ]
    }
   ],
   "source": [
    "print(model.toDebugString())"
   ]
  },
  {
   "cell_type": "markdown",
   "metadata": {
    "collapsed": true
   },
   "source": [
    "# Summary\n",
    "Blah blah"
   ]
  }
 ],
 "metadata": {
  "kernelspec": {
   "display_name": "Python 3",
   "language": "python",
   "name": "python3"
  },
  "language_info": {
   "codemirror_mode": {
    "name": "ipython",
    "version": 3
   },
   "file_extension": ".py",
   "mimetype": "text/x-python",
   "name": "python",
   "nbconvert_exporter": "python",
   "pygments_lexer": "ipython3",
   "version": "3.6.3"
  }
 },
 "nbformat": 4,
 "nbformat_minor": 2
}
